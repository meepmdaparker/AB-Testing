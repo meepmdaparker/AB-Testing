{
 "cells": [
  {
   "cell_type": "code",
   "execution_count": 1,
   "id": "0a5a25c7",
   "metadata": {},
   "outputs": [],
   "source": [
    "import numpy as np\n",
    "import scipy\n",
    "import matplotlib "
   ]
  },
  {
   "cell_type": "code",
   "execution_count": 2,
   "id": "43cd1f9c",
   "metadata": {},
   "outputs": [],
   "source": [
    "version_A = np.random.normal(loc=10, scale=2, size=1000)\n",
    "version_B = np.random.normal(loc=12, scale=2, size=1000)\n",
    "#generting random data using a normal distribution\n",
    "#loc is the mean of distribution\n",
    "#size refers to sample size\n"
   ]
  },
  {
   "cell_type": "code",
   "execution_count": 3,
   "id": "8ee7fc9a",
   "metadata": {},
   "outputs": [
    {
     "name": "stdout",
     "output_type": "stream",
     "text": [
      "t = -23.764143\n",
      "p = 0.000000\n"
     ]
    }
   ],
   "source": [
    "#perform A/B Test\n",
    "\n",
    "from scipy.stats import ttest_ind\n",
    "\n",
    "t, p = ttest_ind(version_A, version_B)\n",
    "\n",
    "print(f\"t = {t: 3f}\")\n",
    "# test statistic\n",
    "print(f\"p = {p:3f}\")\n",
    "# p value"
   ]
  },
  {
   "cell_type": "code",
   "execution_count": 4,
   "id": "194b6bc9",
   "metadata": {},
   "outputs": [],
   "source": [
    "#interpretation\n",
    "# t statistic of -23.76 means that version A is smaller than version B's mean\n",
    "# p value that is small small \n",
    "# A statistically significant test result (P ≤ 0.05) means that the test hypothesis is false or should be rejected\n",
    "# A p-value greater than 0.05 means that no effect was observed\n"
   ]
  },
  {
   "cell_type": "code",
   "execution_count": null,
   "id": "35848323",
   "metadata": {},
   "outputs": [],
   "source": []
  }
 ],
 "metadata": {
  "kernelspec": {
   "display_name": "Python 3 (ipykernel)",
   "language": "python",
   "name": "python3"
  },
  "language_info": {
   "codemirror_mode": {
    "name": "ipython",
    "version": 3
   },
   "file_extension": ".py",
   "mimetype": "text/x-python",
   "name": "python",
   "nbconvert_exporter": "python",
   "pygments_lexer": "ipython3",
   "version": "3.11.4"
  }
 },
 "nbformat": 4,
 "nbformat_minor": 5
}
