{
 "cells": [
  {
   "cell_type": "code",
   "execution_count": 1,
   "id": "7df3d621",
   "metadata": {},
   "outputs": [],
   "source": [
    "import pandas as pd"
   ]
  },
  {
   "cell_type": "code",
   "execution_count": 2,
   "id": "fbecbd56",
   "metadata": {},
   "outputs": [],
   "source": [
    "\n",
    "df = pd.read_excel('LWS Data Revenue and Units.xlsx')"
   ]
  },
  {
   "cell_type": "code",
   "execution_count": 3,
   "id": "8d607077",
   "metadata": {},
   "outputs": [],
   "source": [
    "rev_122 = df['Revenue (1.22)'].copy()"
   ]
  },
  {
   "cell_type": "code",
   "execution_count": 4,
   "id": "4b952d1f",
   "metadata": {},
   "outputs": [],
   "source": [
    "rev_115 = df['Revenue (1.15)'].copy()"
   ]
  },
  {
   "cell_type": "code",
   "execution_count": 6,
   "id": "672ab509",
   "metadata": {},
   "outputs": [
    {
     "name": "stdout",
     "output_type": "stream",
     "text": [
      "t = -1.823173\n",
      "p = 0.068292\n"
     ]
    }
   ],
   "source": [
    "from scipy.stats import ttest_ind\n",
    "\n",
    "t, p = ttest_ind(rev_122, rev_115)\n",
    "\n",
    "print(f\"t = {t: 3f}\")\n",
    "# test statistic\n",
    "print(f\"p = {p:3f}\")\n",
    "# p value"
   ]
  },
  {
   "cell_type": "code",
   "execution_count": 8,
   "id": "f325022f",
   "metadata": {},
   "outputs": [],
   "source": [
    "units_122 = df['Units Sold (1.22'].copy()"
   ]
  },
  {
   "cell_type": "code",
   "execution_count": 9,
   "id": "1251e02a",
   "metadata": {},
   "outputs": [],
   "source": [
    "units_115 = df['Units Sold (1.15)'].copy()"
   ]
  },
  {
   "cell_type": "code",
   "execution_count": 10,
   "id": "31f4ad3f",
   "metadata": {},
   "outputs": [
    {
     "name": "stdout",
     "output_type": "stream",
     "text": [
      "t = -2.161432\n",
      "p = 0.030674\n"
     ]
    }
   ],
   "source": [
    "t, p = ttest_ind(units_122, units_115)\n",
    "\n",
    "print(f\"t = {t: 3f}\")\n",
    "# test statistic\n",
    "print(f\"p = {p:3f}\")"
   ]
  },
  {
   "cell_type": "code",
   "execution_count": null,
   "id": "6da105fb",
   "metadata": {},
   "outputs": [],
   "source": [
    "\"\"\"\n",
    "Revenue AB Testing:\n",
    "t = -1.823173\n",
    "p = 0.068292\n",
    "\n",
    "The t-test for Revenue AB Testing yielded a test statistic of approximately -1.82 and a p-value of 0.068. \n",
    "The test statistic represents the difference between the means of the two groups relative to the variability \n",
    "within the groups. The negative sign indicates that the mean revenue for one group is lower than the other.\n",
    "\n",
    "The p-value of 0.068 is greater than the commonly used significance level of 0.05. \n",
    "Therefore, we do not have enough evidence to reject the null hypothesis at the 0.05 significance level. \n",
    "This suggests that the observed difference in revenue between the two groups may be due to random chance.\n",
    "\n",
    "\n",
    "\n",
    "Units Sold AB Testing:\n",
    "t = -2.161432\n",
    "p = 0.030674\n",
    "For Units Sold AB Testing, the test statistic is approximately -2.16 with a corresponding p-value of 0.030. \n",
    "The negative test statistic suggests that the mean units sold for one group is lower than the other.\n",
    "\n",
    "The p-value of 0.030 is less than 0.05, indicating that there is enough evidence to reject the null hypothesis at the 0.05 \n",
    "significance level. \n",
    "This suggests that the observed difference in units sold between the two groups is likely not due to random chance, \n",
    "and there may be a significant difference in units sold.\n",
    "\n",
    "In summary:\n",
    "For Revenue AB Testing, we do not have enough evidence to conclude a significant \n",
    "difference in revenue between the two groups.\n",
    "For Units Sold AB Testing, there is evidence to suggest a significant difference in units sold between the two groups.\n",
    "\"\"\""
   ]
  }
 ],
 "metadata": {
  "kernelspec": {
   "display_name": "Python 3 (ipykernel)",
   "language": "python",
   "name": "python3"
  },
  "language_info": {
   "codemirror_mode": {
    "name": "ipython",
    "version": 3
   },
   "file_extension": ".py",
   "mimetype": "text/x-python",
   "name": "python",
   "nbconvert_exporter": "python",
   "pygments_lexer": "ipython3",
   "version": "3.11.4"
  }
 },
 "nbformat": 4,
 "nbformat_minor": 5
}
